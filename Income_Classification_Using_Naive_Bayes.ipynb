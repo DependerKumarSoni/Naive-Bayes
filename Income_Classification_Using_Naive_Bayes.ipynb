{
  "nbformat": 4,
  "nbformat_minor": 0,
  "metadata": {
    "colab": {
      "name": "Naive Bayes Implementation.ipynb",
      "provenance": [],
      "collapsed_sections": []
    },
    "kernelspec": {
      "name": "python3",
      "display_name": "Python 3"
    },
    "language_info": {
      "name": "python"
    }
  },
  "cells": [
    {
      "cell_type": "code",
      "metadata": {
        "id": "vIwmN6WpiXwK"
      },
      "source": [
        "import pandas as pd\n",
        "import numpy as np"
      ],
      "execution_count": 1,
      "outputs": []
    },
    {
      "cell_type": "code",
      "metadata": {
        "id": "ci5yaZPPibRO"
      },
      "source": [
        "data = pd.read_csv(\"https://raw.githubusercontent.com/DependerKumarSoni/Naive-Bayes/main/adult.csv\", header=None)"
      ],
      "execution_count": 2,
      "outputs": []
    },
    {
      "cell_type": "code",
      "metadata": {
        "colab": {
          "base_uri": "https://localhost:8080/",
          "height": 206
        },
        "id": "3vENt4Nyidqx",
        "outputId": "3367a2db-98bb-4207-d1d8-e41ff9f5f327"
      },
      "source": [
        "data.head()"
      ],
      "execution_count": 3,
      "outputs": [
        {
          "output_type": "execute_result",
          "data": {
            "text/html": [
              "<div>\n",
              "<style scoped>\n",
              "    .dataframe tbody tr th:only-of-type {\n",
              "        vertical-align: middle;\n",
              "    }\n",
              "\n",
              "    .dataframe tbody tr th {\n",
              "        vertical-align: top;\n",
              "    }\n",
              "\n",
              "    .dataframe thead th {\n",
              "        text-align: right;\n",
              "    }\n",
              "</style>\n",
              "<table border=\"1\" class=\"dataframe\">\n",
              "  <thead>\n",
              "    <tr style=\"text-align: right;\">\n",
              "      <th></th>\n",
              "      <th>0</th>\n",
              "      <th>1</th>\n",
              "      <th>2</th>\n",
              "      <th>3</th>\n",
              "      <th>4</th>\n",
              "      <th>5</th>\n",
              "      <th>6</th>\n",
              "      <th>7</th>\n",
              "      <th>8</th>\n",
              "      <th>9</th>\n",
              "      <th>10</th>\n",
              "      <th>11</th>\n",
              "      <th>12</th>\n",
              "      <th>13</th>\n",
              "      <th>14</th>\n",
              "    </tr>\n",
              "  </thead>\n",
              "  <tbody>\n",
              "    <tr>\n",
              "      <th>0</th>\n",
              "      <td>39</td>\n",
              "      <td>State-gov</td>\n",
              "      <td>77516</td>\n",
              "      <td>Bachelors</td>\n",
              "      <td>13</td>\n",
              "      <td>Never-married</td>\n",
              "      <td>Adm-clerical</td>\n",
              "      <td>Not-in-family</td>\n",
              "      <td>White</td>\n",
              "      <td>Male</td>\n",
              "      <td>2174</td>\n",
              "      <td>0</td>\n",
              "      <td>40</td>\n",
              "      <td>United-States</td>\n",
              "      <td>&lt;=50K</td>\n",
              "    </tr>\n",
              "    <tr>\n",
              "      <th>1</th>\n",
              "      <td>50</td>\n",
              "      <td>Self-emp-not-inc</td>\n",
              "      <td>83311</td>\n",
              "      <td>Bachelors</td>\n",
              "      <td>13</td>\n",
              "      <td>Married-civ-spouse</td>\n",
              "      <td>Exec-managerial</td>\n",
              "      <td>Husband</td>\n",
              "      <td>White</td>\n",
              "      <td>Male</td>\n",
              "      <td>0</td>\n",
              "      <td>0</td>\n",
              "      <td>13</td>\n",
              "      <td>United-States</td>\n",
              "      <td>&lt;=50K</td>\n",
              "    </tr>\n",
              "    <tr>\n",
              "      <th>2</th>\n",
              "      <td>38</td>\n",
              "      <td>Private</td>\n",
              "      <td>215646</td>\n",
              "      <td>HS-grad</td>\n",
              "      <td>9</td>\n",
              "      <td>Divorced</td>\n",
              "      <td>Handlers-cleaners</td>\n",
              "      <td>Not-in-family</td>\n",
              "      <td>White</td>\n",
              "      <td>Male</td>\n",
              "      <td>0</td>\n",
              "      <td>0</td>\n",
              "      <td>40</td>\n",
              "      <td>United-States</td>\n",
              "      <td>&lt;=50K</td>\n",
              "    </tr>\n",
              "    <tr>\n",
              "      <th>3</th>\n",
              "      <td>53</td>\n",
              "      <td>Private</td>\n",
              "      <td>234721</td>\n",
              "      <td>11th</td>\n",
              "      <td>7</td>\n",
              "      <td>Married-civ-spouse</td>\n",
              "      <td>Handlers-cleaners</td>\n",
              "      <td>Husband</td>\n",
              "      <td>Black</td>\n",
              "      <td>Male</td>\n",
              "      <td>0</td>\n",
              "      <td>0</td>\n",
              "      <td>40</td>\n",
              "      <td>United-States</td>\n",
              "      <td>&lt;=50K</td>\n",
              "    </tr>\n",
              "    <tr>\n",
              "      <th>4</th>\n",
              "      <td>28</td>\n",
              "      <td>Private</td>\n",
              "      <td>338409</td>\n",
              "      <td>Bachelors</td>\n",
              "      <td>13</td>\n",
              "      <td>Married-civ-spouse</td>\n",
              "      <td>Prof-specialty</td>\n",
              "      <td>Wife</td>\n",
              "      <td>Black</td>\n",
              "      <td>Female</td>\n",
              "      <td>0</td>\n",
              "      <td>0</td>\n",
              "      <td>40</td>\n",
              "      <td>Cuba</td>\n",
              "      <td>&lt;=50K</td>\n",
              "    </tr>\n",
              "  </tbody>\n",
              "</table>\n",
              "</div>"
            ],
            "text/plain": [
              "   0                  1       2           3   ...  11  12              13      14\n",
              "0  39          State-gov   77516   Bachelors  ...   0  40   United-States   <=50K\n",
              "1  50   Self-emp-not-inc   83311   Bachelors  ...   0  13   United-States   <=50K\n",
              "2  38            Private  215646     HS-grad  ...   0  40   United-States   <=50K\n",
              "3  53            Private  234721        11th  ...   0  40   United-States   <=50K\n",
              "4  28            Private  338409   Bachelors  ...   0  40            Cuba   <=50K\n",
              "\n",
              "[5 rows x 15 columns]"
            ]
          },
          "metadata": {},
          "execution_count": 3
        }
      ]
    },
    {
      "cell_type": "code",
      "metadata": {
        "colab": {
          "base_uri": "https://localhost:8080/"
        },
        "id": "Dbrgz1guifkJ",
        "outputId": "b8cf7b8b-f3ee-456b-dcb9-8738307bf813"
      },
      "source": [
        "data.shape"
      ],
      "execution_count": 4,
      "outputs": [
        {
          "output_type": "execute_result",
          "data": {
            "text/plain": [
              "(32561, 15)"
            ]
          },
          "metadata": {},
          "execution_count": 4
        }
      ]
    },
    {
      "cell_type": "code",
      "metadata": {
        "colab": {
          "base_uri": "https://localhost:8080/"
        },
        "id": "pBXIEwMaihx2",
        "outputId": "fde20a18-62b9-4845-a8ab-9b972613d5d5"
      },
      "source": [
        "col_names = ['age', 'workclass', 'fnlwgt', 'education', 'education_num', 'marital_status', 'occupation', 'relationship',\n",
        "             'race', 'sex', 'capital_gain', 'capital_loss', 'hours_per_week', 'native_country', 'income']\n",
        "\n",
        "data.columns = col_names\n",
        "\n",
        "data.columns"
      ],
      "execution_count": 5,
      "outputs": [
        {
          "output_type": "execute_result",
          "data": {
            "text/plain": [
              "Index(['age', 'workclass', 'fnlwgt', 'education', 'education_num',\n",
              "       'marital_status', 'occupation', 'relationship', 'race', 'sex',\n",
              "       'capital_gain', 'capital_loss', 'hours_per_week', 'native_country',\n",
              "       'income'],\n",
              "      dtype='object')"
            ]
          },
          "metadata": {},
          "execution_count": 5
        }
      ]
    },
    {
      "cell_type": "code",
      "metadata": {
        "colab": {
          "base_uri": "https://localhost:8080/",
          "height": 275
        },
        "id": "GTFumpNzijh2",
        "outputId": "602ebb5f-3edf-4be7-f04e-013b7159bb2d"
      },
      "source": [
        "data.head()"
      ],
      "execution_count": 6,
      "outputs": [
        {
          "output_type": "execute_result",
          "data": {
            "text/html": [
              "<div>\n",
              "<style scoped>\n",
              "    .dataframe tbody tr th:only-of-type {\n",
              "        vertical-align: middle;\n",
              "    }\n",
              "\n",
              "    .dataframe tbody tr th {\n",
              "        vertical-align: top;\n",
              "    }\n",
              "\n",
              "    .dataframe thead th {\n",
              "        text-align: right;\n",
              "    }\n",
              "</style>\n",
              "<table border=\"1\" class=\"dataframe\">\n",
              "  <thead>\n",
              "    <tr style=\"text-align: right;\">\n",
              "      <th></th>\n",
              "      <th>age</th>\n",
              "      <th>workclass</th>\n",
              "      <th>fnlwgt</th>\n",
              "      <th>education</th>\n",
              "      <th>education_num</th>\n",
              "      <th>marital_status</th>\n",
              "      <th>occupation</th>\n",
              "      <th>relationship</th>\n",
              "      <th>race</th>\n",
              "      <th>sex</th>\n",
              "      <th>capital_gain</th>\n",
              "      <th>capital_loss</th>\n",
              "      <th>hours_per_week</th>\n",
              "      <th>native_country</th>\n",
              "      <th>income</th>\n",
              "    </tr>\n",
              "  </thead>\n",
              "  <tbody>\n",
              "    <tr>\n",
              "      <th>0</th>\n",
              "      <td>39</td>\n",
              "      <td>State-gov</td>\n",
              "      <td>77516</td>\n",
              "      <td>Bachelors</td>\n",
              "      <td>13</td>\n",
              "      <td>Never-married</td>\n",
              "      <td>Adm-clerical</td>\n",
              "      <td>Not-in-family</td>\n",
              "      <td>White</td>\n",
              "      <td>Male</td>\n",
              "      <td>2174</td>\n",
              "      <td>0</td>\n",
              "      <td>40</td>\n",
              "      <td>United-States</td>\n",
              "      <td>&lt;=50K</td>\n",
              "    </tr>\n",
              "    <tr>\n",
              "      <th>1</th>\n",
              "      <td>50</td>\n",
              "      <td>Self-emp-not-inc</td>\n",
              "      <td>83311</td>\n",
              "      <td>Bachelors</td>\n",
              "      <td>13</td>\n",
              "      <td>Married-civ-spouse</td>\n",
              "      <td>Exec-managerial</td>\n",
              "      <td>Husband</td>\n",
              "      <td>White</td>\n",
              "      <td>Male</td>\n",
              "      <td>0</td>\n",
              "      <td>0</td>\n",
              "      <td>13</td>\n",
              "      <td>United-States</td>\n",
              "      <td>&lt;=50K</td>\n",
              "    </tr>\n",
              "    <tr>\n",
              "      <th>2</th>\n",
              "      <td>38</td>\n",
              "      <td>Private</td>\n",
              "      <td>215646</td>\n",
              "      <td>HS-grad</td>\n",
              "      <td>9</td>\n",
              "      <td>Divorced</td>\n",
              "      <td>Handlers-cleaners</td>\n",
              "      <td>Not-in-family</td>\n",
              "      <td>White</td>\n",
              "      <td>Male</td>\n",
              "      <td>0</td>\n",
              "      <td>0</td>\n",
              "      <td>40</td>\n",
              "      <td>United-States</td>\n",
              "      <td>&lt;=50K</td>\n",
              "    </tr>\n",
              "    <tr>\n",
              "      <th>3</th>\n",
              "      <td>53</td>\n",
              "      <td>Private</td>\n",
              "      <td>234721</td>\n",
              "      <td>11th</td>\n",
              "      <td>7</td>\n",
              "      <td>Married-civ-spouse</td>\n",
              "      <td>Handlers-cleaners</td>\n",
              "      <td>Husband</td>\n",
              "      <td>Black</td>\n",
              "      <td>Male</td>\n",
              "      <td>0</td>\n",
              "      <td>0</td>\n",
              "      <td>40</td>\n",
              "      <td>United-States</td>\n",
              "      <td>&lt;=50K</td>\n",
              "    </tr>\n",
              "    <tr>\n",
              "      <th>4</th>\n",
              "      <td>28</td>\n",
              "      <td>Private</td>\n",
              "      <td>338409</td>\n",
              "      <td>Bachelors</td>\n",
              "      <td>13</td>\n",
              "      <td>Married-civ-spouse</td>\n",
              "      <td>Prof-specialty</td>\n",
              "      <td>Wife</td>\n",
              "      <td>Black</td>\n",
              "      <td>Female</td>\n",
              "      <td>0</td>\n",
              "      <td>0</td>\n",
              "      <td>40</td>\n",
              "      <td>Cuba</td>\n",
              "      <td>&lt;=50K</td>\n",
              "    </tr>\n",
              "  </tbody>\n",
              "</table>\n",
              "</div>"
            ],
            "text/plain": [
              "   age          workclass  fnlwgt  ... hours_per_week  native_country  income\n",
              "0   39          State-gov   77516  ...             40   United-States   <=50K\n",
              "1   50   Self-emp-not-inc   83311  ...             13   United-States   <=50K\n",
              "2   38            Private  215646  ...             40   United-States   <=50K\n",
              "3   53            Private  234721  ...             40   United-States   <=50K\n",
              "4   28            Private  338409  ...             40            Cuba   <=50K\n",
              "\n",
              "[5 rows x 15 columns]"
            ]
          },
          "metadata": {},
          "execution_count": 6
        }
      ]
    },
    {
      "cell_type": "code",
      "metadata": {
        "colab": {
          "base_uri": "https://localhost:8080/"
        },
        "id": "rHuywoQBiliz",
        "outputId": "be6238e4-00ac-46c8-8c60-6198ea4e98e1"
      },
      "source": [
        "data.info()"
      ],
      "execution_count": 7,
      "outputs": [
        {
          "output_type": "stream",
          "name": "stdout",
          "text": [
            "<class 'pandas.core.frame.DataFrame'>\n",
            "RangeIndex: 32561 entries, 0 to 32560\n",
            "Data columns (total 15 columns):\n",
            " #   Column          Non-Null Count  Dtype \n",
            "---  ------          --------------  ----- \n",
            " 0   age             32561 non-null  int64 \n",
            " 1   workclass       32561 non-null  object\n",
            " 2   fnlwgt          32561 non-null  int64 \n",
            " 3   education       32561 non-null  object\n",
            " 4   education_num   32561 non-null  int64 \n",
            " 5   marital_status  32561 non-null  object\n",
            " 6   occupation      32561 non-null  object\n",
            " 7   relationship    32561 non-null  object\n",
            " 8   race            32561 non-null  object\n",
            " 9   sex             32561 non-null  object\n",
            " 10  capital_gain    32561 non-null  int64 \n",
            " 11  capital_loss    32561 non-null  int64 \n",
            " 12  hours_per_week  32561 non-null  int64 \n",
            " 13  native_country  32561 non-null  object\n",
            " 14  income          32561 non-null  object\n",
            "dtypes: int64(6), object(9)\n",
            "memory usage: 3.7+ MB\n"
          ]
        }
      ]
    },
    {
      "cell_type": "code",
      "metadata": {
        "colab": {
          "base_uri": "https://localhost:8080/"
        },
        "id": "7gLHopfWioDT",
        "outputId": "570a8834-8f7b-41b4-ba97-340bcd62c545"
      },
      "source": [
        "data.income.value_counts()"
      ],
      "execution_count": 8,
      "outputs": [
        {
          "output_type": "execute_result",
          "data": {
            "text/plain": [
              " <=50K    24720\n",
              " >50K      7841\n",
              "Name: income, dtype: int64"
            ]
          },
          "metadata": {},
          "execution_count": 8
        }
      ]
    },
    {
      "cell_type": "code",
      "metadata": {
        "colab": {
          "base_uri": "https://localhost:8080/"
        },
        "id": "_hnIzTPXiyQ6",
        "outputId": "40e9b2d7-4e88-40d6-8c6e-baebed4e8903"
      },
      "source": [
        "# Check for missing variables in categorical data\n",
        "data.isnull().sum()"
      ],
      "execution_count": 9,
      "outputs": [
        {
          "output_type": "execute_result",
          "data": {
            "text/plain": [
              "age               0\n",
              "workclass         0\n",
              "fnlwgt            0\n",
              "education         0\n",
              "education_num     0\n",
              "marital_status    0\n",
              "occupation        0\n",
              "relationship      0\n",
              "race              0\n",
              "sex               0\n",
              "capital_gain      0\n",
              "capital_loss      0\n",
              "hours_per_week    0\n",
              "native_country    0\n",
              "income            0\n",
              "dtype: int64"
            ]
          },
          "metadata": {},
          "execution_count": 9
        }
      ]
    },
    {
      "cell_type": "code",
      "metadata": {
        "colab": {
          "base_uri": "https://localhost:8080/"
        },
        "id": "30XfoOa2i7Wo",
        "outputId": "3228d316-6dff-44b2-b61a-3344603e0f19"
      },
      "source": [
        "# Now we are checking variables in workclass label\n",
        "data.workclass.unique()"
      ],
      "execution_count": 10,
      "outputs": [
        {
          "output_type": "execute_result",
          "data": {
            "text/plain": [
              "array([' State-gov', ' Self-emp-not-inc', ' Private', ' Federal-gov',\n",
              "       ' Local-gov', ' ?', ' Self-emp-inc', ' Without-pay',\n",
              "       ' Never-worked'], dtype=object)"
            ]
          },
          "metadata": {},
          "execution_count": 10
        }
      ]
    },
    {
      "cell_type": "code",
      "metadata": {
        "colab": {
          "base_uri": "https://localhost:8080/"
        },
        "id": "LK5ZjJiZjFio",
        "outputId": "e2d54747-c5aa-4d10-cf2a-ea9d8900a43a"
      },
      "source": [
        "# Checking frequency distribution of values in workclass\n",
        "data.workclass.value_counts()"
      ],
      "execution_count": 11,
      "outputs": [
        {
          "output_type": "execute_result",
          "data": {
            "text/plain": [
              " Private             22696\n",
              " Self-emp-not-inc     2541\n",
              " Local-gov            2093\n",
              " ?                    1836\n",
              " State-gov            1298\n",
              " Self-emp-inc         1116\n",
              " Federal-gov           960\n",
              " Without-pay            14\n",
              " Never-worked            7\n",
              "Name: workclass, dtype: int64"
            ]
          },
          "metadata": {},
          "execution_count": 11
        }
      ]
    },
    {
      "cell_type": "code",
      "metadata": {
        "id": "gGYakvogjIjW"
      },
      "source": [
        "# replacing '?' vlues in workclass variable with 'NaN'\n",
        "data['workclass'].replace(' ?', np.NaN, inplace=True)"
      ],
      "execution_count": 12,
      "outputs": []
    },
    {
      "cell_type": "code",
      "metadata": {
        "colab": {
          "base_uri": "https://localhost:8080/"
        },
        "id": "wqpmnaWCjLOg",
        "outputId": "22cf49ac-4fb0-4263-f6a9-b420ac79149b"
      },
      "source": [
        "# Checking variables in native_country. \n",
        "data.native_country.unique()"
      ],
      "execution_count": 13,
      "outputs": [
        {
          "output_type": "execute_result",
          "data": {
            "text/plain": [
              "array([' United-States', ' Cuba', ' Jamaica', ' India', ' ?', ' Mexico',\n",
              "       ' South', ' Puerto-Rico', ' Honduras', ' England', ' Canada',\n",
              "       ' Germany', ' Iran', ' Philippines', ' Italy', ' Poland',\n",
              "       ' Columbia', ' Cambodia', ' Thailand', ' Ecuador', ' Laos',\n",
              "       ' Taiwan', ' Haiti', ' Portugal', ' Dominican-Republic',\n",
              "       ' El-Salvador', ' France', ' Guatemala', ' China', ' Japan',\n",
              "       ' Yugoslavia', ' Peru', ' Outlying-US(Guam-USVI-etc)', ' Scotland',\n",
              "       ' Trinadad&Tobago', ' Greece', ' Nicaragua', ' Vietnam', ' Hong',\n",
              "       ' Ireland', ' Hungary', ' Holand-Netherlands'], dtype=object)"
            ]
          },
          "metadata": {},
          "execution_count": 13
        }
      ]
    },
    {
      "cell_type": "code",
      "metadata": {
        "colab": {
          "base_uri": "https://localhost:8080/"
        },
        "id": "9I0htKTdkFk8",
        "outputId": "a616bcac-43c2-44be-cb45-f3f2c69def21"
      },
      "source": [
        "# Checking frequency Distribution of native_country variable.\n",
        "data.native_country.value_counts()"
      ],
      "execution_count": 14,
      "outputs": [
        {
          "output_type": "execute_result",
          "data": {
            "text/plain": [
              " United-States                 29170\n",
              " Mexico                          643\n",
              " ?                               583\n",
              " Philippines                     198\n",
              " Germany                         137\n",
              " Canada                          121\n",
              " Puerto-Rico                     114\n",
              " El-Salvador                     106\n",
              " India                           100\n",
              " Cuba                             95\n",
              " England                          90\n",
              " Jamaica                          81\n",
              " South                            80\n",
              " China                            75\n",
              " Italy                            73\n",
              " Dominican-Republic               70\n",
              " Vietnam                          67\n",
              " Guatemala                        64\n",
              " Japan                            62\n",
              " Poland                           60\n",
              " Columbia                         59\n",
              " Taiwan                           51\n",
              " Haiti                            44\n",
              " Iran                             43\n",
              " Portugal                         37\n",
              " Nicaragua                        34\n",
              " Peru                             31\n",
              " France                           29\n",
              " Greece                           29\n",
              " Ecuador                          28\n",
              " Ireland                          24\n",
              " Hong                             20\n",
              " Cambodia                         19\n",
              " Trinadad&Tobago                  19\n",
              " Laos                             18\n",
              " Thailand                         18\n",
              " Yugoslavia                       16\n",
              " Outlying-US(Guam-USVI-etc)       14\n",
              " Hungary                          13\n",
              " Honduras                         13\n",
              " Scotland                         12\n",
              " Holand-Netherlands                1\n",
              "Name: native_country, dtype: int64"
            ]
          },
          "metadata": {},
          "execution_count": 14
        }
      ]
    },
    {
      "cell_type": "code",
      "metadata": {
        "id": "4Q7FKaupkRMP"
      },
      "source": [
        "# # replacing '?' vlues in native_country variable with 'NaN'\n",
        "data['native_country'].replace(' ?', np.NaN, inplace=True)"
      ],
      "execution_count": 15,
      "outputs": []
    },
    {
      "cell_type": "code",
      "metadata": {
        "colab": {
          "base_uri": "https://localhost:8080/"
        },
        "id": "6mHnsjHUkb_U",
        "outputId": "4999ac39-560f-4e0c-bde4-b354bc69089a"
      },
      "source": [
        "# Checking variables in occupatino variable. \n",
        "data.occupation.unique()"
      ],
      "execution_count": 16,
      "outputs": [
        {
          "output_type": "execute_result",
          "data": {
            "text/plain": [
              "array([' Adm-clerical', ' Exec-managerial', ' Handlers-cleaners',\n",
              "       ' Prof-specialty', ' Other-service', ' Sales', ' Craft-repair',\n",
              "       ' Transport-moving', ' Farming-fishing', ' Machine-op-inspct',\n",
              "       ' Tech-support', ' ?', ' Protective-serv', ' Armed-Forces',\n",
              "       ' Priv-house-serv'], dtype=object)"
            ]
          },
          "metadata": {},
          "execution_count": 16
        }
      ]
    },
    {
      "cell_type": "code",
      "metadata": {
        "colab": {
          "base_uri": "https://localhost:8080/"
        },
        "id": "WASQb4hbkgLX",
        "outputId": "db45c36b-2e85-4581-82ce-61c32263c99b"
      },
      "source": [
        "# Checking frequency Distribution of native_country variable.\n",
        "data.occupation.value_counts()"
      ],
      "execution_count": 17,
      "outputs": [
        {
          "output_type": "execute_result",
          "data": {
            "text/plain": [
              " Prof-specialty       4140\n",
              " Craft-repair         4099\n",
              " Exec-managerial      4066\n",
              " Adm-clerical         3770\n",
              " Sales                3650\n",
              " Other-service        3295\n",
              " Machine-op-inspct    2002\n",
              " ?                    1843\n",
              " Transport-moving     1597\n",
              " Handlers-cleaners    1370\n",
              " Farming-fishing       994\n",
              " Tech-support          928\n",
              " Protective-serv       649\n",
              " Priv-house-serv       149\n",
              " Armed-Forces            9\n",
              "Name: occupation, dtype: int64"
            ]
          },
          "metadata": {},
          "execution_count": 17
        }
      ]
    },
    {
      "cell_type": "code",
      "metadata": {
        "id": "w65tJFgKkjJp"
      },
      "source": [
        "# # replacing '?' vlues in native_country variable with 'NaN'\n",
        "data['occupation'].replace(' ?', np.NaN, inplace=True)"
      ],
      "execution_count": 18,
      "outputs": []
    },
    {
      "cell_type": "code",
      "metadata": {
        "colab": {
          "base_uri": "https://localhost:8080/"
        },
        "id": "9CRj-f8xkuC_",
        "outputId": "d2e57154-0908-494f-9896-9fede19e148e"
      },
      "source": [
        "data.occupation.unique()"
      ],
      "execution_count": 19,
      "outputs": [
        {
          "output_type": "execute_result",
          "data": {
            "text/plain": [
              "array([' Adm-clerical', ' Exec-managerial', ' Handlers-cleaners',\n",
              "       ' Prof-specialty', ' Other-service', ' Sales', ' Craft-repair',\n",
              "       ' Transport-moving', ' Farming-fishing', ' Machine-op-inspct',\n",
              "       ' Tech-support', nan, ' Protective-serv', ' Armed-Forces',\n",
              "       ' Priv-house-serv'], dtype=object)"
            ]
          },
          "metadata": {},
          "execution_count": 19
        }
      ]
    },
    {
      "cell_type": "code",
      "metadata": {
        "id": "t7NLrjohkwOO"
      },
      "source": [
        "# Time to declare Feature Vector and Target Variable.\n",
        "X = data.drop(['income'], axis=1)\n",
        "Y = data['income']"
      ],
      "execution_count": 20,
      "outputs": []
    },
    {
      "cell_type": "code",
      "metadata": {
        "id": "g5ZLoxPmlWGS"
      },
      "source": [
        "X=pd.get_dummies(X, drop_first=True)"
      ],
      "execution_count": 21,
      "outputs": []
    },
    {
      "cell_type": "code",
      "metadata": {
        "colab": {
          "base_uri": "https://localhost:8080/"
        },
        "id": "4ujccnloliDE",
        "outputId": "f37968a0-ac35-48d3-a552-ebcd1b0c7084"
      },
      "source": [
        "X.info()"
      ],
      "execution_count": 22,
      "outputs": [
        {
          "output_type": "stream",
          "name": "stdout",
          "text": [
            "<class 'pandas.core.frame.DataFrame'>\n",
            "RangeIndex: 32561 entries, 0 to 32560\n",
            "Data columns (total 97 columns):\n",
            " #   Column                                      Non-Null Count  Dtype\n",
            "---  ------                                      --------------  -----\n",
            " 0   age                                         32561 non-null  int64\n",
            " 1   fnlwgt                                      32561 non-null  int64\n",
            " 2   education_num                               32561 non-null  int64\n",
            " 3   capital_gain                                32561 non-null  int64\n",
            " 4   capital_loss                                32561 non-null  int64\n",
            " 5   hours_per_week                              32561 non-null  int64\n",
            " 6   workclass_ Local-gov                        32561 non-null  uint8\n",
            " 7   workclass_ Never-worked                     32561 non-null  uint8\n",
            " 8   workclass_ Private                          32561 non-null  uint8\n",
            " 9   workclass_ Self-emp-inc                     32561 non-null  uint8\n",
            " 10  workclass_ Self-emp-not-inc                 32561 non-null  uint8\n",
            " 11  workclass_ State-gov                        32561 non-null  uint8\n",
            " 12  workclass_ Without-pay                      32561 non-null  uint8\n",
            " 13  education_ 11th                             32561 non-null  uint8\n",
            " 14  education_ 12th                             32561 non-null  uint8\n",
            " 15  education_ 1st-4th                          32561 non-null  uint8\n",
            " 16  education_ 5th-6th                          32561 non-null  uint8\n",
            " 17  education_ 7th-8th                          32561 non-null  uint8\n",
            " 18  education_ 9th                              32561 non-null  uint8\n",
            " 19  education_ Assoc-acdm                       32561 non-null  uint8\n",
            " 20  education_ Assoc-voc                        32561 non-null  uint8\n",
            " 21  education_ Bachelors                        32561 non-null  uint8\n",
            " 22  education_ Doctorate                        32561 non-null  uint8\n",
            " 23  education_ HS-grad                          32561 non-null  uint8\n",
            " 24  education_ Masters                          32561 non-null  uint8\n",
            " 25  education_ Preschool                        32561 non-null  uint8\n",
            " 26  education_ Prof-school                      32561 non-null  uint8\n",
            " 27  education_ Some-college                     32561 non-null  uint8\n",
            " 28  marital_status_ Married-AF-spouse           32561 non-null  uint8\n",
            " 29  marital_status_ Married-civ-spouse          32561 non-null  uint8\n",
            " 30  marital_status_ Married-spouse-absent       32561 non-null  uint8\n",
            " 31  marital_status_ Never-married               32561 non-null  uint8\n",
            " 32  marital_status_ Separated                   32561 non-null  uint8\n",
            " 33  marital_status_ Widowed                     32561 non-null  uint8\n",
            " 34  occupation_ Armed-Forces                    32561 non-null  uint8\n",
            " 35  occupation_ Craft-repair                    32561 non-null  uint8\n",
            " 36  occupation_ Exec-managerial                 32561 non-null  uint8\n",
            " 37  occupation_ Farming-fishing                 32561 non-null  uint8\n",
            " 38  occupation_ Handlers-cleaners               32561 non-null  uint8\n",
            " 39  occupation_ Machine-op-inspct               32561 non-null  uint8\n",
            " 40  occupation_ Other-service                   32561 non-null  uint8\n",
            " 41  occupation_ Priv-house-serv                 32561 non-null  uint8\n",
            " 42  occupation_ Prof-specialty                  32561 non-null  uint8\n",
            " 43  occupation_ Protective-serv                 32561 non-null  uint8\n",
            " 44  occupation_ Sales                           32561 non-null  uint8\n",
            " 45  occupation_ Tech-support                    32561 non-null  uint8\n",
            " 46  occupation_ Transport-moving                32561 non-null  uint8\n",
            " 47  relationship_ Not-in-family                 32561 non-null  uint8\n",
            " 48  relationship_ Other-relative                32561 non-null  uint8\n",
            " 49  relationship_ Own-child                     32561 non-null  uint8\n",
            " 50  relationship_ Unmarried                     32561 non-null  uint8\n",
            " 51  relationship_ Wife                          32561 non-null  uint8\n",
            " 52  race_ Asian-Pac-Islander                    32561 non-null  uint8\n",
            " 53  race_ Black                                 32561 non-null  uint8\n",
            " 54  race_ Other                                 32561 non-null  uint8\n",
            " 55  race_ White                                 32561 non-null  uint8\n",
            " 56  sex_ Male                                   32561 non-null  uint8\n",
            " 57  native_country_ Canada                      32561 non-null  uint8\n",
            " 58  native_country_ China                       32561 non-null  uint8\n",
            " 59  native_country_ Columbia                    32561 non-null  uint8\n",
            " 60  native_country_ Cuba                        32561 non-null  uint8\n",
            " 61  native_country_ Dominican-Republic          32561 non-null  uint8\n",
            " 62  native_country_ Ecuador                     32561 non-null  uint8\n",
            " 63  native_country_ El-Salvador                 32561 non-null  uint8\n",
            " 64  native_country_ England                     32561 non-null  uint8\n",
            " 65  native_country_ France                      32561 non-null  uint8\n",
            " 66  native_country_ Germany                     32561 non-null  uint8\n",
            " 67  native_country_ Greece                      32561 non-null  uint8\n",
            " 68  native_country_ Guatemala                   32561 non-null  uint8\n",
            " 69  native_country_ Haiti                       32561 non-null  uint8\n",
            " 70  native_country_ Holand-Netherlands          32561 non-null  uint8\n",
            " 71  native_country_ Honduras                    32561 non-null  uint8\n",
            " 72  native_country_ Hong                        32561 non-null  uint8\n",
            " 73  native_country_ Hungary                     32561 non-null  uint8\n",
            " 74  native_country_ India                       32561 non-null  uint8\n",
            " 75  native_country_ Iran                        32561 non-null  uint8\n",
            " 76  native_country_ Ireland                     32561 non-null  uint8\n",
            " 77  native_country_ Italy                       32561 non-null  uint8\n",
            " 78  native_country_ Jamaica                     32561 non-null  uint8\n",
            " 79  native_country_ Japan                       32561 non-null  uint8\n",
            " 80  native_country_ Laos                        32561 non-null  uint8\n",
            " 81  native_country_ Mexico                      32561 non-null  uint8\n",
            " 82  native_country_ Nicaragua                   32561 non-null  uint8\n",
            " 83  native_country_ Outlying-US(Guam-USVI-etc)  32561 non-null  uint8\n",
            " 84  native_country_ Peru                        32561 non-null  uint8\n",
            " 85  native_country_ Philippines                 32561 non-null  uint8\n",
            " 86  native_country_ Poland                      32561 non-null  uint8\n",
            " 87  native_country_ Portugal                    32561 non-null  uint8\n",
            " 88  native_country_ Puerto-Rico                 32561 non-null  uint8\n",
            " 89  native_country_ Scotland                    32561 non-null  uint8\n",
            " 90  native_country_ South                       32561 non-null  uint8\n",
            " 91  native_country_ Taiwan                      32561 non-null  uint8\n",
            " 92  native_country_ Thailand                    32561 non-null  uint8\n",
            " 93  native_country_ Trinadad&Tobago             32561 non-null  uint8\n",
            " 94  native_country_ United-States               32561 non-null  uint8\n",
            " 95  native_country_ Vietnam                     32561 non-null  uint8\n",
            " 96  native_country_ Yugoslavia                  32561 non-null  uint8\n",
            "dtypes: int64(6), uint8(91)\n",
            "memory usage: 4.3 MB\n"
          ]
        }
      ]
    },
    {
      "cell_type": "code",
      "metadata": {
        "id": "I7Q4eX8Glnwq"
      },
      "source": [
        "from sklearn.model_selection import train_test_split\n",
        "x_train, x_test, y_train, y_test = train_test_split(X, Y, test_size=0.2, random_state=12)"
      ],
      "execution_count": 23,
      "outputs": []
    },
    {
      "cell_type": "code",
      "metadata": {
        "colab": {
          "base_uri": "https://localhost:8080/"
        },
        "id": "bE0F-DBdn8ww",
        "outputId": "9a67397f-84df-4531-f7f8-3d747c7aad13"
      },
      "source": [
        "print(len(x_train))"
      ],
      "execution_count": 24,
      "outputs": [
        {
          "output_type": "stream",
          "name": "stdout",
          "text": [
            "26048\n"
          ]
        }
      ]
    },
    {
      "cell_type": "code",
      "metadata": {
        "colab": {
          "base_uri": "https://localhost:8080/"
        },
        "id": "sYY3-NHmoAnS",
        "outputId": "670b1358-ab7a-49cf-abd2-cfababe61e84"
      },
      "source": [
        "print(len(y_train))"
      ],
      "execution_count": 25,
      "outputs": [
        {
          "output_type": "stream",
          "name": "stdout",
          "text": [
            "26048\n"
          ]
        }
      ]
    },
    {
      "cell_type": "code",
      "metadata": {
        "id": "2aG2XfxmoC6A"
      },
      "source": [
        "from sklearn.naive_bayes import GaussianNB"
      ],
      "execution_count": 26,
      "outputs": []
    },
    {
      "cell_type": "code",
      "metadata": {
        "id": "pnoD1RTko0fJ"
      },
      "source": [
        "GNB_Model = GaussianNB()"
      ],
      "execution_count": 27,
      "outputs": []
    },
    {
      "cell_type": "code",
      "metadata": {
        "colab": {
          "base_uri": "https://localhost:8080/"
        },
        "id": "EzUlfo6Ao5Y0",
        "outputId": "bf423e6f-0f02-48fb-a1a5-067e326db2d7"
      },
      "source": [
        "GNB_Model.fit(x_train, y_train)"
      ],
      "execution_count": 28,
      "outputs": [
        {
          "output_type": "execute_result",
          "data": {
            "text/plain": [
              "GaussianNB()"
            ]
          },
          "metadata": {},
          "execution_count": 28
        }
      ]
    },
    {
      "cell_type": "code",
      "metadata": {
        "colab": {
          "base_uri": "https://localhost:8080/"
        },
        "id": "QZnugoQxo9aF",
        "outputId": "0cd81cfb-ad66-445f-b9af-58d179da3dfd"
      },
      "source": [
        "GNB_Model.score(x_test, y_test)"
      ],
      "execution_count": 29,
      "outputs": [
        {
          "output_type": "execute_result",
          "data": {
            "text/plain": [
              "0.7905727007523414"
            ]
          },
          "metadata": {},
          "execution_count": 29
        }
      ]
    },
    {
      "cell_type": "code",
      "metadata": {
        "id": "ZZw9WgYtsUOT"
      },
      "source": [
        "from sklearn.preprocessing import StandardScaler, MinMaxScaler"
      ],
      "execution_count": 30,
      "outputs": []
    },
    {
      "cell_type": "code",
      "metadata": {
        "id": "46BjqDG7shV7"
      },
      "source": [
        "scaler_MMS = MinMaxScaler()\n",
        "scaler_SS = StandardScaler()"
      ],
      "execution_count": 31,
      "outputs": []
    },
    {
      "cell_type": "code",
      "metadata": {
        "id": "u2SBllxCsnTt"
      },
      "source": [
        "X_MMS = scaler_MMS.fit_transform(X)\n",
        "X_SS = scaler_SS.fit_transform(X)"
      ],
      "execution_count": 32,
      "outputs": []
    },
    {
      "cell_type": "code",
      "metadata": {
        "id": "pFWUNPVzs1cc"
      },
      "source": [
        "xmms_train, xmms_test, y_train, y_test = train_test_split(X_MMS, Y, test_size=0.20, random_state=12)\n",
        "xss_train, xss_test, y_train, y_test = train_test_split(X_SS, Y, test_size=0.20, random_state=12)"
      ],
      "execution_count": 33,
      "outputs": []
    },
    {
      "cell_type": "code",
      "metadata": {
        "id": "Lzo2N9RktJmc"
      },
      "source": [
        "GNB_MMS = GaussianNB()\n",
        "GNB_SS = GaussianNB()"
      ],
      "execution_count": 34,
      "outputs": []
    },
    {
      "cell_type": "code",
      "metadata": {
        "colab": {
          "base_uri": "https://localhost:8080/"
        },
        "id": "znJTo7MrtUGg",
        "outputId": "61c49b6e-a883-453f-fd13-c6cf51dd684d"
      },
      "source": [
        "GNB_MMS.fit(xmms_train,y_train)"
      ],
      "execution_count": 35,
      "outputs": [
        {
          "output_type": "execute_result",
          "data": {
            "text/plain": [
              "GaussianNB()"
            ]
          },
          "metadata": {},
          "execution_count": 35
        }
      ]
    },
    {
      "cell_type": "code",
      "metadata": {
        "colab": {
          "base_uri": "https://localhost:8080/"
        },
        "id": "qgVrw3u4thY_",
        "outputId": "42610597-eed1-4908-dd18-4989c1fc5110"
      },
      "source": [
        "GNB_SS.fit(xss_train, y_train)"
      ],
      "execution_count": 36,
      "outputs": [
        {
          "output_type": "execute_result",
          "data": {
            "text/plain": [
              "GaussianNB()"
            ]
          },
          "metadata": {},
          "execution_count": 36
        }
      ]
    },
    {
      "cell_type": "code",
      "metadata": {
        "colab": {
          "base_uri": "https://localhost:8080/"
        },
        "id": "JJDmJMhGtoJp",
        "outputId": "b227523c-22d2-44ed-93d2-73d07432d876"
      },
      "source": [
        "GNB_MMS.score(xmms_test, y_test)"
      ],
      "execution_count": 37,
      "outputs": [
        {
          "output_type": "execute_result",
          "data": {
            "text/plain": [
              "0.4824197758329495"
            ]
          },
          "metadata": {},
          "execution_count": 37
        }
      ]
    },
    {
      "cell_type": "code",
      "metadata": {
        "colab": {
          "base_uri": "https://localhost:8080/"
        },
        "id": "1v1PMOBWttlr",
        "outputId": "739a4e19-e395-4078-ac1f-9976ab7d55fe"
      },
      "source": [
        "GNB_SS.score(xss_test, y_test)"
      ],
      "execution_count": 38,
      "outputs": [
        {
          "output_type": "execute_result",
          "data": {
            "text/plain": [
              "0.4005834484876401"
            ]
          },
          "metadata": {},
          "execution_count": 38
        }
      ]
    },
    {
      "cell_type": "code",
      "metadata": {
        "id": "fmJVUtJCpJMQ"
      },
      "source": [
        "from sklearn.preprocessing import RobustScaler"
      ],
      "execution_count": 39,
      "outputs": []
    },
    {
      "cell_type": "code",
      "metadata": {
        "id": "3z1VtKTdpRYZ"
      },
      "source": [
        "scaler = RobustScaler()"
      ],
      "execution_count": 40,
      "outputs": []
    },
    {
      "cell_type": "code",
      "metadata": {
        "id": "pwZaLAFMpTQY"
      },
      "source": [
        "X_s = scaler.fit_transform(X)"
      ],
      "execution_count": 41,
      "outputs": []
    },
    {
      "cell_type": "code",
      "metadata": {
        "id": "1r3DeX6zpq13"
      },
      "source": [
        "xs_train, xs_test, y_train, y_test = train_test_split(X_s, Y, test_size=0.20, random_state=12)"
      ],
      "execution_count": 42,
      "outputs": []
    },
    {
      "cell_type": "code",
      "metadata": {
        "id": "P2tntdHvpatI"
      },
      "source": [
        "GNB_Scaled = GaussianNB()"
      ],
      "execution_count": 43,
      "outputs": []
    },
    {
      "cell_type": "code",
      "metadata": {
        "colab": {
          "base_uri": "https://localhost:8080/"
        },
        "id": "PGUX4AjkpfHT",
        "outputId": "1f984473-7ad7-4b63-b9f4-e75e36b8dbc5"
      },
      "source": [
        "GNB_Scaled.fit(xs_train, y_train)"
      ],
      "execution_count": 44,
      "outputs": [
        {
          "output_type": "execute_result",
          "data": {
            "text/plain": [
              "GaussianNB()"
            ]
          },
          "metadata": {},
          "execution_count": 44
        }
      ]
    },
    {
      "cell_type": "code",
      "metadata": {
        "colab": {
          "base_uri": "https://localhost:8080/"
        },
        "id": "0XluRehJpjI8",
        "outputId": "76fb5a4f-1ddf-4bf6-cdef-bf9cc1e3c49f"
      },
      "source": [
        "GNB_Scaled.score(xs_test, y_test)"
      ],
      "execution_count": 45,
      "outputs": [
        {
          "output_type": "execute_result",
          "data": {
            "text/plain": [
              "0.8277291570704745"
            ]
          },
          "metadata": {},
          "execution_count": 45
        }
      ]
    }
  ]
}